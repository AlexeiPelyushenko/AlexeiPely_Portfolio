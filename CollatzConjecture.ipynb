{
  "nbformat": 4,
  "nbformat_minor": 0,
  "metadata": {
    "colab": {
      "name": "CollatzConjecture.ipynb",
      "provenance": [],
      "collapsed_sections": [
        "CgQdNwj9kZtm",
        "E0MlyBG_n2YP",
        "lzM_0t1XdLa4",
        "CLPtx9lSYDdA",
        "583Pfw2Yaij-"
      ],
      "include_colab_link": true
    },
    "kernelspec": {
      "name": "python3",
      "display_name": "Python 3"
    },
    "language_info": {
      "name": "python"
    }
  },
  "cells": [
    {
      "cell_type": "markdown",
      "metadata": {
        "id": "view-in-github",
        "colab_type": "text"
      },
      "source": [
        "<a href=\"https://colab.research.google.com/github/AlexeiPelyushenko/RandomProjects/blob/main/CollatzConjecture.ipynb\" target=\"_parent\"><img src=\"https://colab.research.google.com/assets/colab-badge.svg\" alt=\"Open In Colab\"/></a>"
      ]
    },
    {
      "cell_type": "markdown",
      "source": [
        "# Exploration 1 - Group 2\n",
        "## Collatz Conjecture\n",
        "Tanner Boyea, Laura Daniels, Jesse Lynch, Gavin Moss, Alexei Pelyushenko"
      ],
      "metadata": {
        "id": "xALfQvSAUxoJ"
      }
    },
    {
      "cell_type": "markdown",
      "source": [
        "##About this exploration:\n",
        "In this exploration, we will consider a positive integer *n*. We will then apply an algorithm, in order to achieve a repeating sequence of 4 → 2 → 1 → 4.... This is known as The Collatz Conjecture. The Collatz Conjecture has yet to be proven, nor disproven.\n",
        "\n",
        "The different sections of this exploration include:\n",
        "\n",
        "* The algorithm\n",
        "*   A verification that all positive integers up to 1,000,000 follow the conjecture\n",
        "*   Counting the number of steps to termination\n",
        "*   What happens when the conjecture is applied to negative integers \n",
        "\n",
        "\n",
        "\n"
      ],
      "metadata": {
        "id": "jF93cXQHViIH"
      }
    },
    {
      "cell_type": "markdown",
      "source": [
        "##The Collatz Conjucture algorithm\n",
        "Start with a positive integer. \n",
        "\n",
        "If the integer is odd, we will multiply it by 3, then added by 1. If the integer is even, we will divide it by 2. \n",
        "\n",
        "The Collatz Conjecture claims that if we repeat this process, any positive integer will result in a loop of 4 (which we divide by 2 since it's even) → 2 (we once again divide by 2) → 1 (which is odd, so we multiply by 3, then add 1) → 4 → 2 → 1 → 4 → 2 → 1..."
      ],
      "metadata": {
        "id": "_WoTWb0XbbPL"
      }
    },
    {
      "cell_type": "markdown",
      "source": [
        "##Verifying Collatz Conjecture up to 1,000,000:\n",
        "In this section we will explore different programming methods in order to verify the Collatz Conjecture holds for every positive integer up to 1 million. We will progressively add strategies so that python can run these tests as efficiently as possible."
      ],
      "metadata": {
        "id": "DmTcMrcQYQ5q"
      }
    },
    {
      "cell_type": "code",
      "source": [
        "#  Importing time to be used to test efficieny of code\n",
        "from time import time"
      ],
      "metadata": {
        "id": "2YWG-RdpY0m2"
      },
      "execution_count": 48,
      "outputs": []
    },
    {
      "cell_type": "markdown",
      "source": [
        "\n",
        "We know that the numbers 1, 2, and 4 form an infinite cycle.\n",
        "\n",
        "Therefore, if n is ever 1, 2, or 4, we can stop the loop."
      ],
      "metadata": {
        "id": "dObKoo4HZG65"
      }
    },
    {
      "cell_type": "code",
      "source": [
        "#  Confirming that first 100,000 integers terminate:\n",
        "time0 = time()\n",
        "\n",
        "for N in range(1, 100001):\n",
        "    n = N\n",
        "    while n not in [1, 2, 4]:\n",
        "        if n%2 == 0:\n",
        "            n //= 2\n",
        "        else:\n",
        "            n = 3 * n + 1\n",
        "\n",
        "print(\"First 100,000 integers successfully terminated in {} seconds.\".format(time() - time0))"
      ],
      "metadata": {
        "id": "gjIZSJInYe4M",
        "colab": {
          "base_uri": "https://localhost:8080/"
        },
        "outputId": "1611a1d8-3226-423f-c990-98b89f41ad92"
      },
      "execution_count": 49,
      "outputs": [
        {
          "output_type": "stream",
          "name": "stdout",
          "text": [
            "First 100,000 integers successfully terminated in 2.492238759994507 seconds.\n"
          ]
        }
      ]
    },
    {
      "cell_type": "markdown",
      "source": [
        "#Improvement #1\n",
        " If we know all integers smaller than k terminate, we can stop the loop if n ever becomes smaller than k.\n",
        "\n",
        "If n is even and we know all k < n terminate, we can conclude n terminates without testing it.\n",
        "\n",
        "More efficient way of testing first 1,000,000 integers:"
      ],
      "metadata": {
        "id": "xpIYGz8iZlRX"
      }
    },
    {
      "cell_type": "code",
      "source": [
        "#  More efficient way of testing first 1,000,000 integers:\n",
        "time0 = time()\n",
        "\n",
        "for N in range(3, 1000001, 2):\n",
        "    n = N\n",
        "    while n >= N:\n",
        "        if n%2:\n",
        "            n = 3 * n + 1\n",
        "        else:\n",
        "            n //= 2\n",
        "print(\"First 1,000,000 integers successfully terminated in {} seconds.\".format(time() - time0))"
      ],
      "metadata": {
        "id": "ZgQYcgEfZj7I",
        "colab": {
          "base_uri": "https://localhost:8080/"
        },
        "outputId": "cbdf9a71-c166-430a-8c01-6865301528ea"
      },
      "execution_count": 50,
      "outputs": [
        {
          "output_type": "stream",
          "name": "stdout",
          "text": [
            "First 1,000,000 integers successfully terminated in 1.0011777877807617 seconds.\n"
          ]
        }
      ]
    },
    {
      "cell_type": "markdown",
      "source": [
        "This improved the speed, but lets see if we can make this easier to work with."
      ],
      "metadata": {
        "id": "9-RFsA5Jcz9b"
      }
    },
    {
      "cell_type": "markdown",
      "source": [
        "#Improvement #2\n",
        "We can define a function that replaces a chunk of this code to make future coding easier."
      ],
      "metadata": {
        "id": "1zHlcuYcaomn"
      }
    },
    {
      "cell_type": "code",
      "source": [
        "def collatz(n):\n",
        "  if n%2:\n",
        "    return 3 * n + 1\n",
        "  return n // 2"
      ],
      "metadata": {
        "id": "LwjJEk3Nakze"
      },
      "execution_count": 51,
      "outputs": []
    },
    {
      "cell_type": "code",
      "source": [
        "#  More efficient test now using function:\n",
        "time0 = time()\n",
        "for N in range(3, 1000001, 2):\n",
        "    n = N\n",
        "    while n >= N:\n",
        "        n = collatz(n)\n",
        "print(\"First 1,000,000 integers successfully terminated in {} seconds.\".format(time() - time0))"
      ],
      "metadata": {
        "id": "h_ZFvyAyayIW",
        "outputId": "69cbd43e-fd7e-4720-ba1a-fd9abb785a4b",
        "colab": {
          "base_uri": "https://localhost:8080/"
        }
      },
      "execution_count": 52,
      "outputs": [
        {
          "output_type": "stream",
          "name": "stdout",
          "text": [
            "First 1,000,000 integers successfully terminated in 1.3330183029174805 seconds.\n"
          ]
        }
      ]
    },
    {
      "cell_type": "markdown",
      "source": [
        "This way isn't quite as fast, but still pretty good and much easier to work with."
      ],
      "metadata": {
        "id": "aEr8Snz2a8As"
      }
    },
    {
      "cell_type": "markdown",
      "source": [
        "## Number of steps to terminate\n",
        "For the sake of both curiousity and analysis, we can count the number of times we must cycle through through the algorithm in order to reach our loop of 4 → 2 → 1."
      ],
      "metadata": {
        "id": "VmG1HB32cj6L"
      }
    },
    {
      "cell_type": "markdown",
      "source": [
        "#Discoveries\n",
        "After adding a steps counter, we will now test our code on the integers from 1 to 100 by applying both the counter and the collatz function we defined earlier."
      ],
      "metadata": {
        "id": "CgQdNwj9kZtm"
      }
    },
    {
      "cell_type": "code",
      "source": [
        "#  Number of steps for n to reach 1, 2, or 4 for all positive n up to 100:\n",
        "for N in range(1, 101):\n",
        "  n = N\n",
        "  steps = 0\n",
        "  while n not in [1, 2, 4]:\n",
        "    steps += 1\n",
        "    n = collatz(n)\n",
        "  print(N, steps)"
      ],
      "metadata": {
        "id": "syNoGF7dcs8s",
        "colab": {
          "base_uri": "https://localhost:8080/"
        },
        "outputId": "061f0d46-db8f-483f-87e9-363947792f6d"
      },
      "execution_count": 53,
      "outputs": [
        {
          "output_type": "stream",
          "name": "stdout",
          "text": [
            "1 0\n",
            "2 0\n",
            "3 5\n",
            "4 0\n",
            "5 3\n",
            "6 6\n",
            "7 14\n",
            "8 1\n",
            "9 17\n",
            "10 4\n",
            "11 12\n",
            "12 7\n",
            "13 7\n",
            "14 15\n",
            "15 15\n",
            "16 2\n",
            "17 10\n",
            "18 18\n",
            "19 18\n",
            "20 5\n",
            "21 5\n",
            "22 13\n",
            "23 13\n",
            "24 8\n",
            "25 21\n",
            "26 8\n",
            "27 109\n",
            "28 16\n",
            "29 16\n",
            "30 16\n",
            "31 104\n",
            "32 3\n",
            "33 24\n",
            "34 11\n",
            "35 11\n",
            "36 19\n",
            "37 19\n",
            "38 19\n",
            "39 32\n",
            "40 6\n",
            "41 107\n",
            "42 6\n",
            "43 27\n",
            "44 14\n",
            "45 14\n",
            "46 14\n",
            "47 102\n",
            "48 9\n",
            "49 22\n",
            "50 22\n",
            "51 22\n",
            "52 9\n",
            "53 9\n",
            "54 110\n",
            "55 110\n",
            "56 17\n",
            "57 30\n",
            "58 17\n",
            "59 30\n",
            "60 17\n",
            "61 17\n",
            "62 105\n",
            "63 105\n",
            "64 4\n",
            "65 25\n",
            "66 25\n",
            "67 25\n",
            "68 12\n",
            "69 12\n",
            "70 12\n",
            "71 100\n",
            "72 20\n",
            "73 113\n",
            "74 20\n",
            "75 12\n",
            "76 20\n",
            "77 20\n",
            "78 33\n",
            "79 33\n",
            "80 7\n",
            "81 20\n",
            "82 108\n",
            "83 108\n",
            "84 7\n",
            "85 7\n",
            "86 28\n",
            "87 28\n",
            "88 15\n",
            "89 28\n",
            "90 15\n",
            "91 90\n",
            "92 15\n",
            "93 15\n",
            "94 103\n",
            "95 103\n",
            "96 10\n",
            "97 116\n",
            "98 23\n",
            "99 23\n",
            "100 23\n"
          ]
        }
      ]
    },
    {
      "cell_type": "markdown",
      "source": [
        "Of course, the numbers 1, 2, and 4 take 0 steps.\n",
        "\n",
        "Past that, we have discovered that:\n",
        "\n",
        "* Powers of 2 take k steps, where k satisfies $2^k = \\frac{n}{4}.$\n",
        "\n",
        "* The integer that takes the most steps from from 1-100 is 97, taking a total 116 steps to terminate."
      ],
      "metadata": {
        "id": "zlRt_aYVhWZl"
      }
    },
    {
      "cell_type": "code",
      "source": [
        "#  Finding greatest number of steps for n to reach 1, 2, or 4 for all positive n up to 1,000,000:\n",
        "max_steps = 0\n",
        "for N in range(1, 1000001, 2):\n",
        "  n = N\n",
        "  steps = 0\n",
        "  while n not in [1, 2, 4]:\n",
        "    steps += 1\n",
        "    n = collatz(n)\n",
        "  if steps > max_steps:\n",
        "    print(N, steps)\n",
        "    max_steps = steps"
      ],
      "metadata": {
        "id": "i9nGF8n8ix6q",
        "colab": {
          "base_uri": "https://localhost:8080/"
        },
        "outputId": "0bc79947-590c-47e1-9c46-63967b8d0aab"
      },
      "execution_count": 54,
      "outputs": [
        {
          "output_type": "stream",
          "name": "stdout",
          "text": [
            "3 5\n",
            "7 14\n",
            "9 17\n",
            "19 18\n",
            "25 21\n",
            "27 109\n",
            "55 110\n",
            "73 113\n",
            "97 116\n",
            "129 119\n",
            "171 122\n",
            "231 125\n",
            "313 128\n",
            "327 141\n",
            "649 142\n",
            "703 168\n",
            "871 176\n",
            "1161 179\n",
            "2223 180\n",
            "2463 206\n",
            "2919 214\n",
            "3711 235\n",
            "6171 259\n",
            "10971 265\n",
            "13255 273\n",
            "17647 276\n",
            "23529 279\n",
            "26623 305\n",
            "34239 308\n",
            "35655 321\n",
            "52527 337\n",
            "77031 348\n",
            "106239 351\n",
            "142587 372\n",
            "156159 380\n",
            "216367 383\n",
            "230631 440\n",
            "410011 446\n",
            "511935 467\n",
            "626331 506\n",
            "837799 522\n"
          ]
        }
      ]
    },
    {
      "cell_type": "markdown",
      "source": [
        "After programming a cell to count the steps of each integer from 1-1,000,000, we discover that:\n",
        "\n",
        "* The number that takes the most steps for all n up to 1,000,000 is $837799$, with a total of $522$ steps."
      ],
      "metadata": {
        "id": "Di7n1dL-lEjk"
      }
    },
    {
      "cell_type": "code",
      "source": [
        "#  Number of steps for n to become smaller than it was initially for all positive n up to 100:\n",
        "#  Skipping even numbers because number of steps will always be 1.\n",
        "for N in range(3, 101, 2):\n",
        "  n = N\n",
        "  steps = 0\n",
        "  while n >= N:\n",
        "    steps += 1\n",
        "    n = collatz(n)\n",
        "  print(N, steps)"
      ],
      "metadata": {
        "id": "NjUSIy6DnLIJ",
        "colab": {
          "base_uri": "https://localhost:8080/"
        },
        "outputId": "825049e9-9635-4ac9-b76c-e3ca6eec51ed"
      },
      "execution_count": 55,
      "outputs": [
        {
          "output_type": "stream",
          "name": "stdout",
          "text": [
            "3 6\n",
            "5 3\n",
            "7 11\n",
            "9 3\n",
            "11 8\n",
            "13 3\n",
            "15 11\n",
            "17 3\n",
            "19 6\n",
            "21 3\n",
            "23 8\n",
            "25 3\n",
            "27 96\n",
            "29 3\n",
            "31 91\n",
            "33 3\n",
            "35 6\n",
            "37 3\n",
            "39 13\n",
            "41 3\n",
            "43 8\n",
            "45 3\n",
            "47 88\n",
            "49 3\n",
            "51 6\n",
            "53 3\n",
            "55 8\n",
            "57 3\n",
            "59 11\n",
            "61 3\n",
            "63 88\n",
            "65 3\n",
            "67 6\n",
            "69 3\n",
            "71 83\n",
            "73 3\n",
            "75 8\n",
            "77 3\n",
            "79 13\n",
            "81 3\n",
            "83 6\n",
            "85 3\n",
            "87 8\n",
            "89 3\n",
            "91 73\n",
            "93 3\n",
            "95 13\n",
            "97 3\n",
            "99 6\n"
          ]
        }
      ]
    },
    {
      "cell_type": "markdown",
      "source": [
        "#Additional Discoveries\n",
        "Some other patterns we recognize is that:\n",
        "\n",
        "* Every number thats 1 more than a multiple for 4 takes 3 steps. In other words, every n that is 1*mod*4 has a dropping time of 3.\n",
        "\n",
        "* 11 takes 8 steps to get smaller. 12 more than that also takes 8 steps. 20 more than that also takes 8 steps. 12 more than that also takes 8 steps. This +12, +20 pattern seems to continue indefinitely. In other words, every n that is 11*mod*32 or 23*mod*32 has a dropping time of 8.\n",
        "\n"
      ],
      "metadata": {
        "id": "E0MlyBG_n2YP"
      }
    },
    {
      "cell_type": "code",
      "source": [
        "#  Finding greatest number of steps for n to reach get smaller for all positive n up to 1,000,000:\n",
        "max_steps = 0\n",
        "for N in range(2, 1000001):\n",
        "  n = N\n",
        "  steps = 0\n",
        "  while n >= N:\n",
        "    steps += 1\n",
        "    n = collatz(n)\n",
        "  if steps > max_steps:\n",
        "    print(N, steps)\n",
        "    max_steps = steps"
      ],
      "metadata": {
        "id": "rmmYzSRvra3I",
        "colab": {
          "base_uri": "https://localhost:8080/"
        },
        "outputId": "1c013571-de0a-4100-824e-3142574f4fa5"
      },
      "execution_count": 56,
      "outputs": [
        {
          "output_type": "stream",
          "name": "stdout",
          "text": [
            "2 1\n",
            "3 6\n",
            "7 11\n",
            "27 96\n",
            "703 132\n",
            "10087 171\n",
            "35655 220\n",
            "270271 267\n",
            "362343 269\n",
            "381727 282\n",
            "626331 287\n"
          ]
        }
      ]
    },
    {
      "cell_type": "markdown",
      "source": [
        "The number that takes the most steps for all n up to 1,000,000 is $626331$, with $287$ steps.\n",
        "\n",
        "Notably, every n with a relatively maximal dropping time after n = 27 is one less than a multiple of 8. So, we should further explore the properties of numbers in the modulo class 8."
      ],
      "metadata": {
        "id": "nuxo9Vpkrp54"
      }
    },
    {
      "cell_type": "code",
      "source": [
        "import matplotlib.pyplot as plt"
      ],
      "metadata": {
        "id": "J9Ita9cGxaZ3"
      },
      "execution_count": 57,
      "outputs": []
    },
    {
      "cell_type": "code",
      "source": [
        "#  Average steps to reach 1, 2, 4 loop graphed:\n",
        "x_values, y_values = [], []\n",
        "average = 0\n",
        "for N in range(1, 100001):\n",
        "    x_values.append(N)\n",
        "    steps = 0\n",
        "    n = N\n",
        "    while n not in [1, 2, 4]:\n",
        "        n = collatz(n)\n",
        "        steps += 1\n",
        "    average = ((N - 1) * average + steps) / N\n",
        "    y_values.append(average)\n",
        "\n",
        "plt.scatter(x_values, y_values, s=1, c='red')\n",
        "plt.show()"
      ],
      "metadata": {
        "colab": {
          "base_uri": "https://localhost:8080/",
          "height": 265
        },
        "id": "Y0gsjVBQxRKT",
        "outputId": "fd181543-21c6-4ac0-eb2b-6449d5ede2c1"
      },
      "execution_count": 58,
      "outputs": [
        {
          "output_type": "display_data",
          "data": {
            "text/plain": [
              "<Figure size 432x288 with 1 Axes>"
            ],
            "image/png": "[encoded data removed]"
          },
          "metadata": {
            "needs_background": "light"
          }
        }
      ]
    },
    {
      "cell_type": "code",
      "source": [
        "#  A zoom into the right side of the previous graph:\n",
        "x_values, y_values = [], []\n",
        "average = 0\n",
        "for N in range(1, 100001):\n",
        "    x_values.append(N)\n",
        "    steps = 0\n",
        "    n = N\n",
        "    while n not in [1, 2, 4]:\n",
        "        n = collatz(n)\n",
        "        steps += 1\n",
        "    average = ((N - 1) * average + steps) / N\n",
        "    y_values.append(average)\n",
        "\n",
        "plt.scatter(x_values[-10000:], y_values[-10000:], s=1, c='red')\n",
        "plt.show()"
      ],
      "metadata": {
        "colab": {
          "base_uri": "https://localhost:8080/",
          "height": 269
        },
        "id": "KTdaV5Km5ML5",
        "outputId": "e2798e56-0324-4121-f92d-5a6c57b2ffab"
      },
      "execution_count": 59,
      "outputs": [
        {
          "output_type": "display_data",
          "data": {
            "text/plain": [
              "<Figure size 432x288 with 1 Axes>"
            ],
            "image/png": "[encoded data removed]"
          },
          "metadata": {
            "needs_background": "light"
          }
        }
      ]
    },
    {
      "cell_type": "markdown",
      "source": [
        "This shows a slow but definite increase.\n",
        "\n",
        "We can conjecture that the average tends to infinity."
      ],
      "metadata": {
        "id": "KO49oYDT_JOV"
      }
    },
    {
      "cell_type": "code",
      "source": [
        "#  Average steps to get smaller graphed:\n",
        "x_values, y_values = [], []\n",
        "average = 0\n",
        "for N in range(2, 100001):\n",
        "    x_values.append(N)\n",
        "    steps = 0\n",
        "    n = N\n",
        "    while n >= N:\n",
        "        n = collatz(n)\n",
        "        steps += 1\n",
        "    average = ((N - 1) * average + steps) / N\n",
        "    y_values.append(average)\n",
        "\n",
        "print(average)\n",
        "plt.scatter(x_values, y_values, s=1, c='red')\n",
        "plt.show()"
      ],
      "metadata": {
        "colab": {
          "base_uri": "https://localhost:8080/",
          "height": 282
        },
        "id": "6LWWcn3fzLyC",
        "outputId": "1271d255-a5ee-4bc9-b801-4b43d3cc0df1"
      },
      "execution_count": 60,
      "outputs": [
        {
          "output_type": "stream",
          "name": "stdout",
          "text": [
            "5.209110000000036\n"
          ]
        },
        {
          "output_type": "display_data",
          "data": {
            "text/plain": [
              "<Figure size 432x288 with 1 Axes>"
            ],
            "image/png": "[encoded data removed]"
          },
          "metadata": {
            "needs_background": "light"
          }
        }
      ]
    },
    {
      "cell_type": "code",
      "source": [
        "#  A zoom into the right side of the previous graph:\n",
        "x_values, y_values = [], []\n",
        "average = 0\n",
        "for N in range(2, 100001):\n",
        "    x_values.append(N)\n",
        "    steps = 0\n",
        "    n = N\n",
        "    while n >= N:\n",
        "        n = collatz(n)\n",
        "        steps += 1\n",
        "    average = ((N - 1) * average + steps) / N\n",
        "    y_values.append(average)\n",
        "\n",
        "print(average)\n",
        "plt.scatter(x_values[-10000:], y_values[-10000:], s=1, c='red')\n",
        "plt.show()"
      ],
      "metadata": {
        "colab": {
          "base_uri": "https://localhost:8080/",
          "height": 282
        },
        "id": "zkMLE__j_app",
        "outputId": "beb74f91-b809-405d-85e3-2694b8a57e5e"
      },
      "execution_count": 61,
      "outputs": [
        {
          "output_type": "stream",
          "name": "stdout",
          "text": [
            "5.209110000000036\n"
          ]
        },
        {
          "output_type": "display_data",
          "data": {
            "text/plain": [
              "<Figure size 432x288 with 1 Axes>"
            ],
            "image/png": "[encoded data removed]"
          },
          "metadata": {
            "needs_background": "light"
          }
        }
      ]
    },
    {
      "cell_type": "markdown",
      "source": [
        "This shows the average number of steps obriting around a fixed value of roughly 5.2\n",
        "\n",
        "Let us explore this value more."
      ],
      "metadata": {
        "id": "fgfplSGL_yZQ"
      }
    },
    {
      "cell_type": "code",
      "source": [
        "#  Finding a more precise average\n",
        "average = 0\n",
        "for N in range(2, 10000001):\n",
        "    if N%1000000 == 0:\n",
        "        print(\"Calculating... {:.0%} complete\".format(N / 10000000))\n",
        "    steps = 0\n",
        "    n = N\n",
        "    while n >= N:\n",
        "        n = collatz(n)\n",
        "        steps += 1\n",
        "    average = ((N - 1) * average + steps) / N\n",
        "\n",
        "print(average)"
      ],
      "metadata": {
        "colab": {
          "base_uri": "https://localhost:8080/"
        },
        "id": "XO4CVA1FAT1r",
        "outputId": "6d18529a-72b9-4149-b993-0d5762de3dd9"
      },
      "execution_count": 62,
      "outputs": [
        {
          "output_type": "stream",
          "name": "stdout",
          "text": [
            "Calculating... 10% complete\n",
            "Calculating... 20% complete\n",
            "Calculating... 30% complete\n",
            "Calculating... 40% complete\n",
            "Calculating... 50% complete\n",
            "Calculating... 60% complete\n",
            "Calculating... 70% complete\n",
            "Calculating... 80% complete\n",
            "Calculating... 90% complete\n",
            "Calculating... 100% complete\n",
            "5.235935099999933\n"
          ]
        }
      ]
    },
    {
      "cell_type": "markdown",
      "source": [
        "From this, we can see that the average still appears to hover around a fixed value.\n",
        "\n",
        "The average number of steps to get smaller after the first 10,000,000 is around 5.236"
      ],
      "metadata": {
        "id": "ZO6Fc7zaCrFG"
      }
    },
    {
      "cell_type": "markdown",
      "source": [
        "## Negative integers\n",
        "We've seen how the collatz conjecture works for positive integers, but what might we find if we try applying it to negative integers?"
      ],
      "metadata": {
        "id": "za1mcGY7c2Jy"
      }
    },
    {
      "cell_type": "markdown",
      "source": [
        "Let's start with $-1$"
      ],
      "metadata": {
        "id": "YEsqEbFvpn34"
      }
    },
    {
      "cell_type": "code",
      "source": [
        "n = -1\n",
        "for i in range(10):\n",
        "  print(n)\n",
        "  n = collatz(n)"
      ],
      "metadata": {
        "id": "tgOffsCEc444",
        "colab": {
          "base_uri": "https://localhost:8080/"
        },
        "outputId": "7b9b03b7-aba4-4b5b-fe07-6560ce5ed31d"
      },
      "execution_count": 63,
      "outputs": [
        {
          "output_type": "stream",
          "name": "stdout",
          "text": [
            "-1\n",
            "-2\n",
            "-1\n",
            "-2\n",
            "-1\n",
            "-2\n",
            "-1\n",
            "-2\n",
            "-1\n",
            "-2\n"
          ]
        }
      ]
    },
    {
      "cell_type": "markdown",
      "source": [
        "Starting at $-1$ leads to a cycle of -1 → -2 → -1....\n",
        "\n",
        "This means $-2$ will also have this result."
      ],
      "metadata": {
        "id": "jjIqKuvIdBJK"
      }
    },
    {
      "cell_type": "code",
      "source": [
        "#  Testing -3:\n",
        "n = -3\n",
        "for i in range(10):\n",
        "  print(n)\n",
        "  n = collatz(n)"
      ],
      "metadata": {
        "id": "Oh8mcxoQdHrq",
        "colab": {
          "base_uri": "https://localhost:8080/"
        },
        "outputId": "a3bba200-4b7b-42a3-813d-9020d2820208"
      },
      "execution_count": 64,
      "outputs": [
        {
          "output_type": "stream",
          "name": "stdout",
          "text": [
            "-3\n",
            "-8\n",
            "-4\n",
            "-2\n",
            "-1\n",
            "-2\n",
            "-1\n",
            "-2\n",
            "-1\n",
            "-2\n"
          ]
        }
      ]
    },
    {
      "cell_type": "markdown",
      "source": [
        "Starting at $-3$ also leads to a -1, -2 cycle.\n"
      ],
      "metadata": {
        "id": "s8NUjaPrq4wn"
      }
    },
    {
      "cell_type": "markdown",
      "source": [
        "#Conjecture A\n",
        "Initally, it seems that all negative integers will lead to a -1 → -2 \n",
        "→ -1 cycle. For now, lets call this Conjecture A, but let's keep exploring."
      ],
      "metadata": {
        "id": "lzM_0t1XdLa4"
      }
    },
    {
      "cell_type": "code",
      "source": [
        "#  Testing Conjecture A for first 100 negative integers:\n",
        "for N in range(-1, -11, -1):\n",
        "  n = N\n",
        "  for i in range(10):\n",
        "    print(N, n)\n",
        "    if n == -1:\n",
        "      break\n",
        "    n = collatz(n)\n",
        "print(\"First 100 negative integers successfully terminated\")"
      ],
      "metadata": {
        "id": "QFGWYaUadPR3",
        "colab": {
          "base_uri": "https://localhost:8080/"
        },
        "outputId": "39e9c2f8-79e0-462b-b2bc-f4ddf4e5931b"
      },
      "execution_count": 65,
      "outputs": [
        {
          "output_type": "stream",
          "name": "stdout",
          "text": [
            "-1 -1\n",
            "-2 -2\n",
            "-2 -1\n",
            "-3 -3\n",
            "-3 -8\n",
            "-3 -4\n",
            "-3 -2\n",
            "-3 -1\n",
            "-4 -4\n",
            "-4 -2\n",
            "-4 -1\n",
            "-5 -5\n",
            "-5 -14\n",
            "-5 -7\n",
            "-5 -20\n",
            "-5 -10\n",
            "-5 -5\n",
            "-5 -14\n",
            "-5 -7\n",
            "-5 -20\n",
            "-5 -10\n",
            "-6 -6\n",
            "-6 -3\n",
            "-6 -8\n",
            "-6 -4\n",
            "-6 -2\n",
            "-6 -1\n",
            "-7 -7\n",
            "-7 -20\n",
            "-7 -10\n",
            "-7 -5\n",
            "-7 -14\n",
            "-7 -7\n",
            "-7 -20\n",
            "-7 -10\n",
            "-7 -5\n",
            "-7 -14\n",
            "-8 -8\n",
            "-8 -4\n",
            "-8 -2\n",
            "-8 -1\n",
            "-9 -9\n",
            "-9 -26\n",
            "-9 -13\n",
            "-9 -38\n",
            "-9 -19\n",
            "-9 -56\n",
            "-9 -28\n",
            "-9 -14\n",
            "-9 -7\n",
            "-9 -20\n",
            "-10 -10\n",
            "-10 -5\n",
            "-10 -14\n",
            "-10 -7\n",
            "-10 -20\n",
            "-10 -10\n",
            "-10 -5\n",
            "-10 -14\n",
            "-10 -7\n",
            "-10 -20\n",
            "First 100 negative integers successfully terminated\n"
          ]
        }
      ]
    },
    {
      "cell_type": "markdown",
      "source": [
        "Conjecture A failed at n = -5, -7, -9, and -10, which all lead to a -5 → -14 → -7 → -20 → -10 → -5... cycle."
      ],
      "metadata": {
        "id": "JRPA_yB3q9Wr"
      }
    },
    {
      "cell_type": "markdown",
      "source": [
        "#Conjecture B\n",
        "Naturally, our next conjecture is that:\n",
        "all negative integers will lead to a -1, -2 cycle or a -14 → -7 → -20 → -10 → -5 cycle. Let's call this Conjecture B."
      ],
      "metadata": {
        "id": "yov3z4X_eUab"
      }
    },
    {
      "cell_type": "code",
      "source": [
        "#  WARNING: VERY LARGE OUTPUT\n",
        "#  Testing Conjecture B for first 100 negative integers:\n",
        "for N in range(-1, -101, -1):\n",
        "  steps = 0\n",
        "  n = N\n",
        "  while n not in [-1, -2, -5, -14, -7, -20, -10] and steps != 20:\n",
        "    print(N, n)\n",
        "    n = collatz(n)\n",
        "    steps += 1"
      ],
      "metadata": {
        "id": "HeUtQ4zsebCD",
        "colab": {
          "base_uri": "https://localhost:8080/"
        },
        "outputId": "b283d3d9-b12a-4d39-f31c-10d0988b135e"
      },
      "execution_count": 66,
      "outputs": [
        {
          "output_type": "stream",
          "name": "stdout",
          "text": [
            "-3 -3\n",
            "-3 -8\n",
            "-3 -4\n",
            "-4 -4\n",
            "-6 -6\n",
            "-6 -3\n",
            "-6 -8\n",
            "-6 -4\n",
            "-8 -8\n",
            "-8 -4\n",
            "-9 -9\n",
            "-9 -26\n",
            "-9 -13\n",
            "-9 -38\n",
            "-9 -19\n",
            "-9 -56\n",
            "-9 -28\n",
            "-11 -11\n",
            "-11 -32\n",
            "-11 -16\n",
            "-11 -8\n",
            "-11 -4\n",
            "-12 -12\n",
            "-12 -6\n",
            "-12 -3\n",
            "-12 -8\n",
            "-12 -4\n",
            "-13 -13\n",
            "-13 -38\n",
            "-13 -19\n",
            "-13 -56\n",
            "-13 -28\n",
            "-15 -15\n",
            "-15 -44\n",
            "-15 -22\n",
            "-15 -11\n",
            "-15 -32\n",
            "-15 -16\n",
            "-15 -8\n",
            "-15 -4\n",
            "-16 -16\n",
            "-16 -8\n",
            "-16 -4\n",
            "-17 -17\n",
            "-17 -50\n",
            "-17 -25\n",
            "-17 -74\n",
            "-17 -37\n",
            "-17 -110\n",
            "-17 -55\n",
            "-17 -164\n",
            "-17 -82\n",
            "-17 -41\n",
            "-17 -122\n",
            "-17 -61\n",
            "-17 -182\n",
            "-17 -91\n",
            "-17 -272\n",
            "-17 -136\n",
            "-17 -68\n",
            "-17 -34\n",
            "-17 -17\n",
            "-17 -50\n",
            "-18 -18\n",
            "-18 -9\n",
            "-18 -26\n",
            "-18 -13\n",
            "-18 -38\n",
            "-18 -19\n",
            "-18 -56\n",
            "-18 -28\n",
            "-19 -19\n",
            "-19 -56\n",
            "-19 -28\n",
            "-21 -21\n",
            "-21 -62\n",
            "-21 -31\n",
            "-21 -92\n",
            "-21 -46\n",
            "-21 -23\n",
            "-21 -68\n",
            "-21 -34\n",
            "-21 -17\n",
            "-21 -50\n",
            "-21 -25\n",
            "-21 -74\n",
            "-21 -37\n",
            "-21 -110\n",
            "-21 -55\n",
            "-21 -164\n",
            "-21 -82\n",
            "-21 -41\n",
            "-21 -122\n",
            "-21 -61\n",
            "-22 -22\n",
            "-22 -11\n",
            "-22 -32\n",
            "-22 -16\n",
            "-22 -8\n",
            "-22 -4\n",
            "-23 -23\n",
            "-23 -68\n",
            "-23 -34\n",
            "-23 -17\n",
            "-23 -50\n",
            "-23 -25\n",
            "-23 -74\n",
            "-23 -37\n",
            "-23 -110\n",
            "-23 -55\n",
            "-23 -164\n",
            "-23 -82\n",
            "-23 -41\n",
            "-23 -122\n",
            "-23 -61\n",
            "-23 -182\n",
            "-23 -91\n",
            "-23 -272\n",
            "-23 -136\n",
            "-23 -68\n",
            "-24 -24\n",
            "-24 -12\n",
            "-24 -6\n",
            "-24 -3\n",
            "-24 -8\n",
            "-24 -4\n",
            "-25 -25\n",
            "-25 -74\n",
            "-25 -37\n",
            "-25 -110\n",
            "-25 -55\n",
            "-25 -164\n",
            "-25 -82\n",
            "-25 -41\n",
            "-25 -122\n",
            "-25 -61\n",
            "-25 -182\n",
            "-25 -91\n",
            "-25 -272\n",
            "-25 -136\n",
            "-25 -68\n",
            "-25 -34\n",
            "-25 -17\n",
            "-25 -50\n",
            "-25 -25\n",
            "-25 -74\n",
            "-26 -26\n",
            "-26 -13\n",
            "-26 -38\n",
            "-26 -19\n",
            "-26 -56\n",
            "-26 -28\n",
            "-27 -27\n",
            "-27 -80\n",
            "-27 -40\n",
            "-28 -28\n",
            "-29 -29\n",
            "-29 -86\n",
            "-29 -43\n",
            "-29 -128\n",
            "-29 -64\n",
            "-29 -32\n",
            "-29 -16\n",
            "-29 -8\n",
            "-29 -4\n",
            "-30 -30\n",
            "-30 -15\n",
            "-30 -44\n",
            "-30 -22\n",
            "-30 -11\n",
            "-30 -32\n",
            "-30 -16\n",
            "-30 -8\n",
            "-30 -4\n",
            "-31 -31\n",
            "-31 -92\n",
            "-31 -46\n",
            "-31 -23\n",
            "-31 -68\n",
            "-31 -34\n",
            "-31 -17\n",
            "-31 -50\n",
            "-31 -25\n",
            "-31 -74\n",
            "-31 -37\n",
            "-31 -110\n",
            "-31 -55\n",
            "-31 -164\n",
            "-31 -82\n",
            "-31 -41\n",
            "-31 -122\n",
            "-31 -61\n",
            "-31 -182\n",
            "-31 -91\n",
            "-32 -32\n",
            "-32 -16\n",
            "-32 -8\n",
            "-32 -4\n",
            "-33 -33\n",
            "-33 -98\n",
            "-33 -49\n",
            "-33 -146\n",
            "-33 -73\n",
            "-33 -218\n",
            "-33 -109\n",
            "-33 -326\n",
            "-33 -163\n",
            "-33 -488\n",
            "-33 -244\n",
            "-33 -122\n",
            "-33 -61\n",
            "-33 -182\n",
            "-33 -91\n",
            "-33 -272\n",
            "-33 -136\n",
            "-33 -68\n",
            "-33 -34\n",
            "-33 -17\n",
            "-34 -34\n",
            "-34 -17\n",
            "-34 -50\n",
            "-34 -25\n",
            "-34 -74\n",
            "-34 -37\n",
            "-34 -110\n",
            "-34 -55\n",
            "-34 -164\n",
            "-34 -82\n",
            "-34 -41\n",
            "-34 -122\n",
            "-34 -61\n",
            "-34 -182\n",
            "-34 -91\n",
            "-34 -272\n",
            "-34 -136\n",
            "-34 -68\n",
            "-34 -34\n",
            "-34 -17\n",
            "-35 -35\n",
            "-35 -104\n",
            "-35 -52\n",
            "-35 -26\n",
            "-35 -13\n",
            "-35 -38\n",
            "-35 -19\n",
            "-35 -56\n",
            "-35 -28\n",
            "-36 -36\n",
            "-36 -18\n",
            "-36 -9\n",
            "-36 -26\n",
            "-36 -13\n",
            "-36 -38\n",
            "-36 -19\n",
            "-36 -56\n",
            "-36 -28\n",
            "-37 -37\n",
            "-37 -110\n",
            "-37 -55\n",
            "-37 -164\n",
            "-37 -82\n",
            "-37 -41\n",
            "-37 -122\n",
            "-37 -61\n",
            "-37 -182\n",
            "-37 -91\n",
            "-37 -272\n",
            "-37 -136\n",
            "-37 -68\n",
            "-37 -34\n",
            "-37 -17\n",
            "-37 -50\n",
            "-37 -25\n",
            "-37 -74\n",
            "-37 -37\n",
            "-37 -110\n",
            "-38 -38\n",
            "-38 -19\n",
            "-38 -56\n",
            "-38 -28\n",
            "-39 -39\n",
            "-39 -116\n",
            "-39 -58\n",
            "-39 -29\n",
            "-39 -86\n",
            "-39 -43\n",
            "-39 -128\n",
            "-39 -64\n",
            "-39 -32\n",
            "-39 -16\n",
            "-39 -8\n",
            "-39 -4\n",
            "-40 -40\n",
            "-41 -41\n",
            "-41 -122\n",
            "-41 -61\n",
            "-41 -182\n",
            "-41 -91\n",
            "-41 -272\n",
            "-41 -136\n",
            "-41 -68\n",
            "-41 -34\n",
            "-41 -17\n",
            "-41 -50\n",
            "-41 -25\n",
            "-41 -74\n",
            "-41 -37\n",
            "-41 -110\n",
            "-41 -55\n",
            "-41 -164\n",
            "-41 -82\n",
            "-41 -41\n",
            "-41 -122\n",
            "-42 -42\n",
            "-42 -21\n",
            "-42 -62\n",
            "-42 -31\n",
            "-42 -92\n",
            "-42 -46\n",
            "-42 -23\n",
            "-42 -68\n",
            "-42 -34\n",
            "-42 -17\n",
            "-42 -50\n",
            "-42 -25\n",
            "-42 -74\n",
            "-42 -37\n",
            "-42 -110\n",
            "-42 -55\n",
            "-42 -164\n",
            "-42 -82\n",
            "-42 -41\n",
            "-42 -122\n",
            "-43 -43\n",
            "-43 -128\n",
            "-43 -64\n",
            "-43 -32\n",
            "-43 -16\n",
            "-43 -8\n",
            "-43 -4\n",
            "-44 -44\n",
            "-44 -22\n",
            "-44 -11\n",
            "-44 -32\n",
            "-44 -16\n",
            "-44 -8\n",
            "-44 -4\n",
            "-45 -45\n",
            "-45 -134\n",
            "-45 -67\n",
            "-45 -200\n",
            "-45 -100\n",
            "-45 -50\n",
            "-45 -25\n",
            "-45 -74\n",
            "-45 -37\n",
            "-45 -110\n",
            "-45 -55\n",
            "-45 -164\n",
            "-45 -82\n",
            "-45 -41\n",
            "-45 -122\n",
            "-45 -61\n",
            "-45 -182\n",
            "-45 -91\n",
            "-45 -272\n",
            "-45 -136\n",
            "-46 -46\n",
            "-46 -23\n",
            "-46 -68\n",
            "-46 -34\n",
            "-46 -17\n",
            "-46 -50\n",
            "-46 -25\n",
            "-46 -74\n",
            "-46 -37\n",
            "-46 -110\n",
            "-46 -55\n",
            "-46 -164\n",
            "-46 -82\n",
            "-46 -41\n",
            "-46 -122\n",
            "-46 -61\n",
            "-46 -182\n",
            "-46 -91\n",
            "-46 -272\n",
            "-46 -136\n",
            "-47 -47\n",
            "-47 -140\n",
            "-47 -70\n",
            "-47 -35\n",
            "-47 -104\n",
            "-47 -52\n",
            "-47 -26\n",
            "-47 -13\n",
            "-47 -38\n",
            "-47 -19\n",
            "-47 -56\n",
            "-47 -28\n",
            "-48 -48\n",
            "-48 -24\n",
            "-48 -12\n",
            "-48 -6\n",
            "-48 -3\n",
            "-48 -8\n",
            "-48 -4\n",
            "-49 -49\n",
            "-49 -146\n",
            "-49 -73\n",
            "-49 -218\n",
            "-49 -109\n",
            "-49 -326\n",
            "-49 -163\n",
            "-49 -488\n",
            "-49 -244\n",
            "-49 -122\n",
            "-49 -61\n",
            "-49 -182\n",
            "-49 -91\n",
            "-49 -272\n",
            "-49 -136\n",
            "-49 -68\n",
            "-49 -34\n",
            "-49 -17\n",
            "-49 -50\n",
            "-49 -25\n",
            "-50 -50\n",
            "-50 -25\n",
            "-50 -74\n",
            "-50 -37\n",
            "-50 -110\n",
            "-50 -55\n",
            "-50 -164\n",
            "-50 -82\n",
            "-50 -41\n",
            "-50 -122\n",
            "-50 -61\n",
            "-50 -182\n",
            "-50 -91\n",
            "-50 -272\n",
            "-50 -136\n",
            "-50 -68\n",
            "-50 -34\n",
            "-50 -17\n",
            "-50 -50\n",
            "-50 -25\n",
            "-51 -51\n",
            "-51 -152\n",
            "-51 -76\n",
            "-51 -38\n",
            "-51 -19\n",
            "-51 -56\n",
            "-51 -28\n",
            "-52 -52\n",
            "-52 -26\n",
            "-52 -13\n",
            "-52 -38\n",
            "-52 -19\n",
            "-52 -56\n",
            "-52 -28\n",
            "-53 -53\n",
            "-53 -158\n",
            "-53 -79\n",
            "-53 -236\n",
            "-53 -118\n",
            "-53 -59\n",
            "-53 -176\n",
            "-53 -88\n",
            "-53 -44\n",
            "-53 -22\n",
            "-53 -11\n",
            "-53 -32\n",
            "-53 -16\n",
            "-53 -8\n",
            "-53 -4\n",
            "-54 -54\n",
            "-54 -27\n",
            "-54 -80\n",
            "-54 -40\n",
            "-55 -55\n",
            "-55 -164\n",
            "-55 -82\n",
            "-55 -41\n",
            "-55 -122\n",
            "-55 -61\n",
            "-55 -182\n",
            "-55 -91\n",
            "-55 -272\n",
            "-55 -136\n",
            "-55 -68\n",
            "-55 -34\n",
            "-55 -17\n",
            "-55 -50\n",
            "-55 -25\n",
            "-55 -74\n",
            "-55 -37\n",
            "-55 -110\n",
            "-55 -55\n",
            "-55 -164\n",
            "-56 -56\n",
            "-56 -28\n",
            "-57 -57\n",
            "-57 -170\n",
            "-57 -85\n",
            "-57 -254\n",
            "-57 -127\n",
            "-57 -380\n",
            "-57 -190\n",
            "-57 -95\n",
            "-57 -284\n",
            "-57 -142\n",
            "-57 -71\n",
            "-57 -212\n",
            "-57 -106\n",
            "-57 -53\n",
            "-57 -158\n",
            "-57 -79\n",
            "-57 -236\n",
            "-57 -118\n",
            "-57 -59\n",
            "-57 -176\n",
            "-58 -58\n",
            "-58 -29\n",
            "-58 -86\n",
            "-58 -43\n",
            "-58 -128\n",
            "-58 -64\n",
            "-58 -32\n",
            "-58 -16\n",
            "-58 -8\n",
            "-58 -4\n",
            "-59 -59\n",
            "-59 -176\n",
            "-59 -88\n",
            "-59 -44\n",
            "-59 -22\n",
            "-59 -11\n",
            "-59 -32\n",
            "-59 -16\n",
            "-59 -8\n",
            "-59 -4\n",
            "-60 -60\n",
            "-60 -30\n",
            "-60 -15\n",
            "-60 -44\n",
            "-60 -22\n",
            "-60 -11\n",
            "-60 -32\n",
            "-60 -16\n",
            "-60 -8\n",
            "-60 -4\n",
            "-61 -61\n",
            "-61 -182\n",
            "-61 -91\n",
            "-61 -272\n",
            "-61 -136\n",
            "-61 -68\n",
            "-61 -34\n",
            "-61 -17\n",
            "-61 -50\n",
            "-61 -25\n",
            "-61 -74\n",
            "-61 -37\n",
            "-61 -110\n",
            "-61 -55\n",
            "-61 -164\n",
            "-61 -82\n",
            "-61 -41\n",
            "-61 -122\n",
            "-61 -61\n",
            "-61 -182\n",
            "-62 -62\n",
            "-62 -31\n",
            "-62 -92\n",
            "-62 -46\n",
            "-62 -23\n",
            "-62 -68\n",
            "-62 -34\n",
            "-62 -17\n",
            "-62 -50\n",
            "-62 -25\n",
            "-62 -74\n",
            "-62 -37\n",
            "-62 -110\n",
            "-62 -55\n",
            "-62 -164\n",
            "-62 -82\n",
            "-62 -41\n",
            "-62 -122\n",
            "-62 -61\n",
            "-62 -182\n",
            "-63 -63\n",
            "-63 -188\n",
            "-63 -94\n",
            "-63 -47\n",
            "-63 -140\n",
            "-63 -70\n",
            "-63 -35\n",
            "-63 -104\n",
            "-63 -52\n",
            "-63 -26\n",
            "-63 -13\n",
            "-63 -38\n",
            "-63 -19\n",
            "-63 -56\n",
            "-63 -28\n",
            "-64 -64\n",
            "-64 -32\n",
            "-64 -16\n",
            "-64 -8\n",
            "-64 -4\n",
            "-65 -65\n",
            "-65 -194\n",
            "-65 -97\n",
            "-65 -290\n",
            "-65 -145\n",
            "-65 -434\n",
            "-65 -217\n",
            "-65 -650\n",
            "-65 -325\n",
            "-65 -974\n",
            "-65 -487\n",
            "-65 -1460\n",
            "-65 -730\n",
            "-65 -365\n",
            "-65 -1094\n",
            "-65 -547\n",
            "-65 -1640\n",
            "-65 -820\n",
            "-65 -410\n",
            "-65 -205\n",
            "-66 -66\n",
            "-66 -33\n",
            "-66 -98\n",
            "-66 -49\n",
            "-66 -146\n",
            "-66 -73\n",
            "-66 -218\n",
            "-66 -109\n",
            "-66 -326\n",
            "-66 -163\n",
            "-66 -488\n",
            "-66 -244\n",
            "-66 -122\n",
            "-66 -61\n",
            "-66 -182\n",
            "-66 -91\n",
            "-66 -272\n",
            "-66 -136\n",
            "-66 -68\n",
            "-66 -34\n",
            "-67 -67\n",
            "-67 -200\n",
            "-67 -100\n",
            "-67 -50\n",
            "-67 -25\n",
            "-67 -74\n",
            "-67 -37\n",
            "-67 -110\n",
            "-67 -55\n",
            "-67 -164\n",
            "-67 -82\n",
            "-67 -41\n",
            "-67 -122\n",
            "-67 -61\n",
            "-67 -182\n",
            "-67 -91\n",
            "-67 -272\n",
            "-67 -136\n",
            "-67 -68\n",
            "-67 -34\n",
            "-68 -68\n",
            "-68 -34\n",
            "-68 -17\n",
            "-68 -50\n",
            "-68 -25\n",
            "-68 -74\n",
            "-68 -37\n",
            "-68 -110\n",
            "-68 -55\n",
            "-68 -164\n",
            "-68 -82\n",
            "-68 -41\n",
            "-68 -122\n",
            "-68 -61\n",
            "-68 -182\n",
            "-68 -91\n",
            "-68 -272\n",
            "-68 -136\n",
            "-68 -68\n",
            "-68 -34\n",
            "-69 -69\n",
            "-69 -206\n",
            "-69 -103\n",
            "-69 -308\n",
            "-69 -154\n",
            "-69 -77\n",
            "-69 -230\n",
            "-69 -115\n",
            "-69 -344\n",
            "-69 -172\n",
            "-69 -86\n",
            "-69 -43\n",
            "-69 -128\n",
            "-69 -64\n",
            "-69 -32\n",
            "-69 -16\n",
            "-69 -8\n",
            "-69 -4\n",
            "-70 -70\n",
            "-70 -35\n",
            "-70 -104\n",
            "-70 -52\n",
            "-70 -26\n",
            "-70 -13\n",
            "-70 -38\n",
            "-70 -19\n",
            "-70 -56\n",
            "-70 -28\n",
            "-71 -71\n",
            "-71 -212\n",
            "-71 -106\n",
            "-71 -53\n",
            "-71 -158\n",
            "-71 -79\n",
            "-71 -236\n",
            "-71 -118\n",
            "-71 -59\n",
            "-71 -176\n",
            "-71 -88\n",
            "-71 -44\n",
            "-71 -22\n",
            "-71 -11\n",
            "-71 -32\n",
            "-71 -16\n",
            "-71 -8\n",
            "-71 -4\n",
            "-72 -72\n",
            "-72 -36\n",
            "-72 -18\n",
            "-72 -9\n",
            "-72 -26\n",
            "-72 -13\n",
            "-72 -38\n",
            "-72 -19\n",
            "-72 -56\n",
            "-72 -28\n",
            "-73 -73\n",
            "-73 -218\n",
            "-73 -109\n",
            "-73 -326\n",
            "-73 -163\n",
            "-73 -488\n",
            "-73 -244\n",
            "-73 -122\n",
            "-73 -61\n",
            "-73 -182\n",
            "-73 -91\n",
            "-73 -272\n",
            "-73 -136\n",
            "-73 -68\n",
            "-73 -34\n",
            "-73 -17\n",
            "-73 -50\n",
            "-73 -25\n",
            "-73 -74\n",
            "-73 -37\n",
            "-74 -74\n",
            "-74 -37\n",
            "-74 -110\n",
            "-74 -55\n",
            "-74 -164\n",
            "-74 -82\n",
            "-74 -41\n",
            "-74 -122\n",
            "-74 -61\n",
            "-74 -182\n",
            "-74 -91\n",
            "-74 -272\n",
            "-74 -136\n",
            "-74 -68\n",
            "-74 -34\n",
            "-74 -17\n",
            "-74 -50\n",
            "-74 -25\n",
            "-74 -74\n",
            "-74 -37\n",
            "-75 -75\n",
            "-75 -224\n",
            "-75 -112\n",
            "-75 -56\n",
            "-75 -28\n",
            "-76 -76\n",
            "-76 -38\n",
            "-76 -19\n",
            "-76 -56\n",
            "-76 -28\n",
            "-77 -77\n",
            "-77 -230\n",
            "-77 -115\n",
            "-77 -344\n",
            "-77 -172\n",
            "-77 -86\n",
            "-77 -43\n",
            "-77 -128\n",
            "-77 -64\n",
            "-77 -32\n",
            "-77 -16\n",
            "-77 -8\n",
            "-77 -4\n",
            "-78 -78\n",
            "-78 -39\n",
            "-78 -116\n",
            "-78 -58\n",
            "-78 -29\n",
            "-78 -86\n",
            "-78 -43\n",
            "-78 -128\n",
            "-78 -64\n",
            "-78 -32\n",
            "-78 -16\n",
            "-78 -8\n",
            "-78 -4\n",
            "-79 -79\n",
            "-79 -236\n",
            "-79 -118\n",
            "-79 -59\n",
            "-79 -176\n",
            "-79 -88\n",
            "-79 -44\n",
            "-79 -22\n",
            "-79 -11\n",
            "-79 -32\n",
            "-79 -16\n",
            "-79 -8\n",
            "-79 -4\n",
            "-80 -80\n",
            "-80 -40\n",
            "-81 -81\n",
            "-81 -242\n",
            "-81 -121\n",
            "-81 -362\n",
            "-81 -181\n",
            "-81 -542\n",
            "-81 -271\n",
            "-81 -812\n",
            "-81 -406\n",
            "-81 -203\n",
            "-81 -608\n",
            "-81 -304\n",
            "-81 -152\n",
            "-81 -76\n",
            "-81 -38\n",
            "-81 -19\n",
            "-81 -56\n",
            "-81 -28\n",
            "-82 -82\n",
            "-82 -41\n",
            "-82 -122\n",
            "-82 -61\n",
            "-82 -182\n",
            "-82 -91\n",
            "-82 -272\n",
            "-82 -136\n",
            "-82 -68\n",
            "-82 -34\n",
            "-82 -17\n",
            "-82 -50\n",
            "-82 -25\n",
            "-82 -74\n",
            "-82 -37\n",
            "-82 -110\n",
            "-82 -55\n",
            "-82 -164\n",
            "-82 -82\n",
            "-82 -41\n",
            "-83 -83\n",
            "-83 -248\n",
            "-83 -124\n",
            "-83 -62\n",
            "-83 -31\n",
            "-83 -92\n",
            "-83 -46\n",
            "-83 -23\n",
            "-83 -68\n",
            "-83 -34\n",
            "-83 -17\n",
            "-83 -50\n",
            "-83 -25\n",
            "-83 -74\n",
            "-83 -37\n",
            "-83 -110\n",
            "-83 -55\n",
            "-83 -164\n",
            "-83 -82\n",
            "-83 -41\n",
            "-84 -84\n",
            "-84 -42\n",
            "-84 -21\n",
            "-84 -62\n",
            "-84 -31\n",
            "-84 -92\n",
            "-84 -46\n",
            "-84 -23\n",
            "-84 -68\n",
            "-84 -34\n",
            "-84 -17\n",
            "-84 -50\n",
            "-84 -25\n",
            "-84 -74\n",
            "-84 -37\n",
            "-84 -110\n",
            "-84 -55\n",
            "-84 -164\n",
            "-84 -82\n",
            "-84 -41\n",
            "-85 -85\n",
            "-85 -254\n",
            "-85 -127\n",
            "-85 -380\n",
            "-85 -190\n",
            "-85 -95\n",
            "-85 -284\n",
            "-85 -142\n",
            "-85 -71\n",
            "-85 -212\n",
            "-85 -106\n",
            "-85 -53\n",
            "-85 -158\n",
            "-85 -79\n",
            "-85 -236\n",
            "-85 -118\n",
            "-85 -59\n",
            "-85 -176\n",
            "-85 -88\n",
            "-85 -44\n",
            "-86 -86\n",
            "-86 -43\n",
            "-86 -128\n",
            "-86 -64\n",
            "-86 -32\n",
            "-86 -16\n",
            "-86 -8\n",
            "-86 -4\n",
            "-87 -87\n",
            "-87 -260\n",
            "-87 -130\n",
            "-87 -65\n",
            "-87 -194\n",
            "-87 -97\n",
            "-87 -290\n",
            "-87 -145\n",
            "-87 -434\n",
            "-87 -217\n",
            "-87 -650\n",
            "-87 -325\n",
            "-87 -974\n",
            "-87 -487\n",
            "-87 -1460\n",
            "-87 -730\n",
            "-87 -365\n",
            "-87 -1094\n",
            "-87 -547\n",
            "-87 -1640\n",
            "-88 -88\n",
            "-88 -44\n",
            "-88 -22\n",
            "-88 -11\n",
            "-88 -32\n",
            "-88 -16\n",
            "-88 -8\n",
            "-88 -4\n",
            "-89 -89\n",
            "-89 -266\n",
            "-89 -133\n",
            "-89 -398\n",
            "-89 -199\n",
            "-89 -596\n",
            "-89 -298\n",
            "-89 -149\n",
            "-89 -446\n",
            "-89 -223\n",
            "-89 -668\n",
            "-89 -334\n",
            "-89 -167\n",
            "-89 -500\n",
            "-89 -250\n",
            "-89 -125\n",
            "-89 -374\n",
            "-89 -187\n",
            "-89 -560\n",
            "-89 -280\n",
            "-90 -90\n",
            "-90 -45\n",
            "-90 -134\n",
            "-90 -67\n",
            "-90 -200\n",
            "-90 -100\n",
            "-90 -50\n",
            "-90 -25\n",
            "-90 -74\n",
            "-90 -37\n",
            "-90 -110\n",
            "-90 -55\n",
            "-90 -164\n",
            "-90 -82\n",
            "-90 -41\n",
            "-90 -122\n",
            "-90 -61\n",
            "-90 -182\n",
            "-90 -91\n",
            "-90 -272\n",
            "-91 -91\n",
            "-91 -272\n",
            "-91 -136\n",
            "-91 -68\n",
            "-91 -34\n",
            "-91 -17\n",
            "-91 -50\n",
            "-91 -25\n",
            "-91 -74\n",
            "-91 -37\n",
            "-91 -110\n",
            "-91 -55\n",
            "-91 -164\n",
            "-91 -82\n",
            "-91 -41\n",
            "-91 -122\n",
            "-91 -61\n",
            "-91 -182\n",
            "-91 -91\n",
            "-91 -272\n",
            "-92 -92\n",
            "-92 -46\n",
            "-92 -23\n",
            "-92 -68\n",
            "-92 -34\n",
            "-92 -17\n",
            "-92 -50\n",
            "-92 -25\n",
            "-92 -74\n",
            "-92 -37\n",
            "-92 -110\n",
            "-92 -55\n",
            "-92 -164\n",
            "-92 -82\n",
            "-92 -41\n",
            "-92 -122\n",
            "-92 -61\n",
            "-92 -182\n",
            "-92 -91\n",
            "-92 -272\n",
            "-93 -93\n",
            "-93 -278\n",
            "-93 -139\n",
            "-93 -416\n",
            "-93 -208\n",
            "-93 -104\n",
            "-93 -52\n",
            "-93 -26\n",
            "-93 -13\n",
            "-93 -38\n",
            "-93 -19\n",
            "-93 -56\n",
            "-93 -28\n",
            "-94 -94\n",
            "-94 -47\n",
            "-94 -140\n",
            "-94 -70\n",
            "-94 -35\n",
            "-94 -104\n",
            "-94 -52\n",
            "-94 -26\n",
            "-94 -13\n",
            "-94 -38\n",
            "-94 -19\n",
            "-94 -56\n",
            "-94 -28\n",
            "-95 -95\n",
            "-95 -284\n",
            "-95 -142\n",
            "-95 -71\n",
            "-95 -212\n",
            "-95 -106\n",
            "-95 -53\n",
            "-95 -158\n",
            "-95 -79\n",
            "-95 -236\n",
            "-95 -118\n",
            "-95 -59\n",
            "-95 -176\n",
            "-95 -88\n",
            "-95 -44\n",
            "-95 -22\n",
            "-95 -11\n",
            "-95 -32\n",
            "-95 -16\n",
            "-95 -8\n",
            "-96 -96\n",
            "-96 -48\n",
            "-96 -24\n",
            "-96 -12\n",
            "-96 -6\n",
            "-96 -3\n",
            "-96 -8\n",
            "-96 -4\n",
            "-97 -97\n",
            "-97 -290\n",
            "-97 -145\n",
            "-97 -434\n",
            "-97 -217\n",
            "-97 -650\n",
            "-97 -325\n",
            "-97 -974\n",
            "-97 -487\n",
            "-97 -1460\n",
            "-97 -730\n",
            "-97 -365\n",
            "-97 -1094\n",
            "-97 -547\n",
            "-97 -1640\n",
            "-97 -820\n",
            "-97 -410\n",
            "-97 -205\n",
            "-97 -614\n",
            "-97 -307\n",
            "-98 -98\n",
            "-98 -49\n",
            "-98 -146\n",
            "-98 -73\n",
            "-98 -218\n",
            "-98 -109\n",
            "-98 -326\n",
            "-98 -163\n",
            "-98 -488\n",
            "-98 -244\n",
            "-98 -122\n",
            "-98 -61\n",
            "-98 -182\n",
            "-98 -91\n",
            "-98 -272\n",
            "-98 -136\n",
            "-98 -68\n",
            "-98 -34\n",
            "-98 -17\n",
            "-98 -50\n",
            "-99 -99\n",
            "-99 -296\n",
            "-99 -148\n",
            "-99 -74\n",
            "-99 -37\n",
            "-99 -110\n",
            "-99 -55\n",
            "-99 -164\n",
            "-99 -82\n",
            "-99 -41\n",
            "-99 -122\n",
            "-99 -61\n",
            "-99 -182\n",
            "-99 -91\n",
            "-99 -272\n",
            "-99 -136\n",
            "-99 -68\n",
            "-99 -34\n",
            "-99 -17\n",
            "-99 -50\n",
            "-100 -100\n",
            "-100 -50\n",
            "-100 -25\n",
            "-100 -74\n",
            "-100 -37\n",
            "-100 -110\n",
            "-100 -55\n",
            "-100 -164\n",
            "-100 -82\n",
            "-100 -41\n",
            "-100 -122\n",
            "-100 -61\n",
            "-100 -182\n",
            "-100 -91\n",
            "-100 -272\n",
            "-100 -136\n",
            "-100 -68\n",
            "-100 -34\n",
            "-100 -17\n",
            "-100 -50\n"
          ]
        }
      ]
    },
    {
      "cell_type": "markdown",
      "source": [
        "Conjecture B failed at -17 and several other values, which resulted in a shockingly long cycle of length 18. This cyle being:\n",
        "\n",
        "-74 → -37 → -110 → -55 → -164 → -82 → -41 → -122 → -61 → -182 → -91 → -272 → -136 → -68 → -34 → -17 → -50 → -25"
      ],
      "metadata": {
        "id": "fHfKD0xvrK-r"
      }
    },
    {
      "cell_type": "markdown",
      "source": [
        "#Conjecture C\n",
        "Since it seems that there can be many differeny loops, let's generalize with Conjecture C: all negative integers will lead to a repeating cycle.\n"
      ],
      "metadata": {
        "id": "_1s_pYBMelsX"
      }
    },
    {
      "cell_type": "code",
      "source": [
        "#  Testing Conjecture C for first 10,000 negative integers:\n",
        "for N in range(-1, -10001, -1):\n",
        "  n = N\n",
        "  current_chain = []\n",
        "  while n not in current_chain and n <= N:\n",
        "    current_chain.append(n)\n",
        "    n = collatz(n)\n",
        "print(\"First 10,000 negative integers successfully terminated\")"
      ],
      "metadata": {
        "id": "F3umiw76e1Hc",
        "colab": {
          "base_uri": "https://localhost:8080/"
        },
        "outputId": "fc5b4d71-ecdf-4dbb-9ca0-f5449f23de36"
      },
      "execution_count": 67,
      "outputs": [
        {
          "output_type": "stream",
          "name": "stdout",
          "text": [
            "First 10,000 negative integers successfully terminated\n"
          ]
        }
      ]
    },
    {
      "cell_type": "code",
      "source": [
        "#  More testing on the terminal properties of large negative numbers:\n",
        "for N in range(-10000000001, -10000000101, -1):\n",
        "  n = N\n",
        "  current_chain = []\n",
        "  while n not in current_chain:\n",
        "    current_chain.append(n)\n",
        "    n = collatz(n)\n",
        "  loop_len = len(current_chain) - current_chain.index(n)\n",
        "  print(N, loop_len, current_chain[-loop_len:])"
      ],
      "metadata": {
        "id": "5tR4-cd8UxCN",
        "colab": {
          "base_uri": "https://localhost:8080/"
        },
        "outputId": "8845a9a3-0f03-48c2-f5b7-403f0525d964"
      },
      "execution_count": 68,
      "outputs": [
        {
          "output_type": "stream",
          "name": "stdout",
          "text": [
            "-10000000001 2 [-2, -1]\n",
            "-10000000002 2 [-2, -1]\n",
            "-10000000003 2 [-2, -1]\n",
            "-10000000004 2 [-2, -1]\n",
            "-10000000005 2 [-2, -1]\n",
            "-10000000006 2 [-2, -1]\n",
            "-10000000007 2 [-2, -1]\n",
            "-10000000008 2 [-2, -1]\n",
            "-10000000009 2 [-2, -1]\n",
            "-10000000010 2 [-2, -1]\n",
            "-10000000011 2 [-2, -1]\n",
            "-10000000012 2 [-2, -1]\n",
            "-10000000013 2 [-2, -1]\n",
            "-10000000014 2 [-2, -1]\n",
            "-10000000015 2 [-2, -1]\n",
            "-10000000016 2 [-2, -1]\n",
            "-10000000017 18 [-68, -34, -17, -50, -25, -74, -37, -110, -55, -164, -82, -41, -122, -61, -182, -91, -272, -136]\n",
            "-10000000018 5 [-14, -7, -20, -10, -5]\n",
            "-10000000019 5 [-14, -7, -20, -10, -5]\n",
            "-10000000020 5 [-14, -7, -20, -10, -5]\n",
            "-10000000021 2 [-2, -1]\n",
            "-10000000022 2 [-2, -1]\n",
            "-10000000023 18 [-68, -34, -17, -50, -25, -74, -37, -110, -55, -164, -82, -41, -122, -61, -182, -91, -272, -136]\n",
            "-10000000024 2 [-2, -1]\n",
            "-10000000025 5 [-14, -7, -20, -10, -5]\n",
            "-10000000026 2 [-2, -1]\n",
            "-10000000027 2 [-2, -1]\n",
            "-10000000028 2 [-2, -1]\n",
            "-10000000029 2 [-2, -1]\n",
            "-10000000030 2 [-2, -1]\n",
            "-10000000031 2 [-2, -1]\n",
            "-10000000032 2 [-2, -1]\n",
            "-10000000033 5 [-14, -7, -20, -10, -5]\n",
            "-10000000034 5 [-14, -7, -20, -10, -5]\n",
            "-10000000035 2 [-2, -1]\n",
            "-10000000036 2 [-2, -1]\n",
            "-10000000037 5 [-14, -7, -20, -10, -5]\n",
            "-10000000038 2 [-2, -1]\n",
            "-10000000039 18 [-68, -34, -17, -50, -25, -74, -37, -110, -55, -164, -82, -41, -122, -61, -182, -91, -272, -136]\n",
            "-10000000040 2 [-2, -1]\n",
            "-10000000041 2 [-2, -1]\n",
            "-10000000042 2 [-2, -1]\n",
            "-10000000043 2 [-2, -1]\n",
            "-10000000044 2 [-2, -1]\n",
            "-10000000045 2 [-2, -1]\n",
            "-10000000046 2 [-2, -1]\n",
            "-10000000047 5 [-14, -7, -20, -10, -5]\n",
            "-10000000048 2 [-2, -1]\n",
            "-10000000049 2 [-2, -1]\n",
            "-10000000050 2 [-2, -1]\n",
            "-10000000051 5 [-14, -7, -20, -10, -5]\n",
            "-10000000052 5 [-14, -7, -20, -10, -5]\n",
            "-10000000053 2 [-2, -1]\n",
            "-10000000054 5 [-14, -7, -20, -10, -5]\n",
            "-10000000055 2 [-2, -1]\n",
            "-10000000056 5 [-14, -7, -20, -10, -5]\n",
            "-10000000057 18 [-122, -61, -182, -91, -272, -136, -68, -34, -17, -50, -25, -74, -37, -110, -55, -164, -82, -41]\n",
            "-10000000058 18 [-68, -34, -17, -50, -25, -74, -37, -110, -55, -164, -82, -41, -122, -61, -182, -91, -272, -136]\n",
            "-10000000059 18 [-68, -34, -17, -50, -25, -74, -37, -110, -55, -164, -82, -41, -122, -61, -182, -91, -272, -136]\n",
            "-10000000060 18 [-68, -34, -17, -50, -25, -74, -37, -110, -55, -164, -82, -41, -122, -61, -182, -91, -272, -136]\n",
            "-10000000061 2 [-2, -1]\n",
            "-10000000062 2 [-2, -1]\n",
            "-10000000063 2 [-2, -1]\n",
            "-10000000064 2 [-2, -1]\n",
            "-10000000065 5 [-14, -7, -20, -10, -5]\n",
            "-10000000066 5 [-14, -7, -20, -10, -5]\n",
            "-10000000067 5 [-14, -7, -20, -10, -5]\n",
            "-10000000068 5 [-14, -7, -20, -10, -5]\n",
            "-10000000069 2 [-2, -1]\n",
            "-10000000070 2 [-2, -1]\n",
            "-10000000071 2 [-2, -1]\n",
            "-10000000072 2 [-2, -1]\n",
            "-10000000073 2 [-2, -1]\n",
            "-10000000074 2 [-2, -1]\n",
            "-10000000075 2 [-2, -1]\n",
            "-10000000076 2 [-2, -1]\n",
            "-10000000077 2 [-2, -1]\n",
            "-10000000078 2 [-2, -1]\n",
            "-10000000079 2 [-2, -1]\n",
            "-10000000080 2 [-2, -1]\n",
            "-10000000081 2 [-2, -1]\n",
            "-10000000082 2 [-2, -1]\n",
            "-10000000083 2 [-2, -1]\n",
            "-10000000084 2 [-2, -1]\n",
            "-10000000085 2 [-2, -1]\n",
            "-10000000086 18 [-68, -34, -17, -50, -25, -74, -37, -110, -55, -164, -82, -41, -122, -61, -182, -91, -272, -136]\n",
            "-10000000087 18 [-68, -34, -17, -50, -25, -74, -37, -110, -55, -164, -82, -41, -122, -61, -182, -91, -272, -136]\n",
            "-10000000088 18 [-68, -34, -17, -50, -25, -74, -37, -110, -55, -164, -82, -41, -122, -61, -182, -91, -272, -136]\n",
            "-10000000089 2 [-2, -1]\n",
            "-10000000090 18 [-122, -61, -182, -91, -272, -136, -68, -34, -17, -50, -25, -74, -37, -110, -55, -164, -82, -41]\n",
            "-10000000091 18 [-122, -61, -182, -91, -272, -136, -68, -34, -17, -50, -25, -74, -37, -110, -55, -164, -82, -41]\n",
            "-10000000092 18 [-122, -61, -182, -91, -272, -136, -68, -34, -17, -50, -25, -74, -37, -110, -55, -164, -82, -41]\n",
            "-10000000093 2 [-2, -1]\n",
            "-10000000094 2 [-2, -1]\n",
            "-10000000095 2 [-2, -1]\n",
            "-10000000096 18 [-68, -34, -17, -50, -25, -74, -37, -110, -55, -164, -82, -41, -122, -61, -182, -91, -272, -136]\n",
            "-10000000097 2 [-2, -1]\n",
            "-10000000098 2 [-2, -1]\n",
            "-10000000099 2 [-2, -1]\n",
            "-10000000100 2 [-2, -1]\n"
          ]
        }
      ]
    },
    {
      "cell_type": "markdown",
      "source": [
        "#Negative Integers Conclusion and Conjecture D\n",
        "After testing all negative numbers up to -10,000,000,000 for their final cycle length and final cycle, it was found that all negative numbers end up in one of the following cycles:\n",
        "\n",
        "\n",
        "1.   [-2, -1]\n",
        "2.   [-14, -7, -20, -10, -5]\n",
        "3.   [-74, -37, -110, -55, -164, -82, -41, -122, -61, -182, -91, -272, -136, -68, -34, -17, -50, -25]\n",
        "\n",
        "With this, we have Conjecture D: All negative numbers will end up in one of the above cycles."
      ],
      "metadata": {
        "id": "CLPtx9lSYDdA"
      }
    },
    {
      "cell_type": "code",
      "source": [
        "#  Graphing the which cycle each negative integer ends up in to look for a pattern\n",
        "x_list, y_list = [], []\n",
        "for N in range(-1, -1001, -1):\n",
        "  x_list.append(N)\n",
        "  n = N\n",
        "  current_chain = []\n",
        "  while n not in current_chain:\n",
        "    current_chain.append(n)\n",
        "    n = collatz(n)\n",
        "  if -1 in current_chain:\n",
        "    y_list.append(2)\n",
        "  elif -5 in current_chain:\n",
        "    y_list.append(5)\n",
        "  elif -17 in current_chain:\n",
        "    y_list.append(18)\n",
        "plt.scatter([-x for x in x_list], y_list, s=1)\n",
        "plt.show()"
      ],
      "metadata": {
        "id": "3I5SXJtjXoOe",
        "outputId": "c9c422be-9a15-4ac6-bbf9-01269efbfe57",
        "colab": {
          "base_uri": "https://localhost:8080/",
          "height": 265
        }
      },
      "execution_count": 69,
      "outputs": [
        {
          "output_type": "display_data",
          "data": {
            "text/plain": [
              "<Figure size 432x288 with 1 Axes>"
            ],
            "image/png": "[encoded data removed]"
          },
          "metadata": {
            "needs_background": "light"
          }
        }
      ]
    },
    {
      "cell_type": "markdown",
      "source": [
        "# Dropping time"
      ],
      "metadata": {
        "id": "XSwemOxSff8w"
      }
    },
    {
      "cell_type": "markdown",
      "source": [
        "Implementing the dropping time will be similar to the efficient way of \n",
        "checking if a number satisfies the Collatz Conjecture. Or in other words, we're adding counting to the algorithm."
      ],
      "metadata": {
        "id": "EnVjf7sxfmW2"
      }
    },
    {
      "cell_type": "code",
      "source": [
        "def drop(n):\n",
        "    if type(n) != int:\n",
        "        print(\"Invalid input. Input should be an integer.\")\n",
        "        return\n",
        "    steps = 0\n",
        "    N = n\n",
        "    while n >= N:\n",
        "        if n % 2 == 0:\n",
        "            n //= 2\n",
        "        else:\n",
        "            n = 3*n+1\n",
        "        steps += 1\n",
        "        #print(n, end = \", \")\n",
        "    return steps\n",
        "\n",
        "print(drop(7))"
      ],
      "metadata": {
        "colab": {
          "base_uri": "https://localhost:8080/"
        },
        "id": "qmVumk2ThY0R",
        "outputId": "969b1ebd-2d5f-4430-c6ca-0396ca6c2f51"
      },
      "execution_count": 70,
      "outputs": [
        {
          "output_type": "stream",
          "name": "stdout",
          "text": [
            "11\n"
          ]
        }
      ]
    },
    {
      "cell_type": "markdown",
      "source": [
        "It might be interesting to see what the dropping time would look like as a \n",
        "function of the number, so let's make a list of inputs to outputs."
      ],
      "metadata": {
        "id": "pDWtIjFZjQ-v"
      }
    },
    {
      "cell_type": "code",
      "source": [
        "#We start from 2, since o(1) is undefined.\n",
        "amount_of_points = 1000\n",
        "inputs = list(range(2, amount_of_points))\n",
        "outputs = []\n",
        "for i in range(2, amount_of_points):\n",
        "    outputs.append(drop(i))\n",
        "print(inputs[0:10])\n",
        "print(outputs[0:10])"
      ],
      "metadata": {
        "id": "99Tk2KTCjRzY",
        "outputId": "8e099b2c-ed2f-4c88-b175-cc411564a5ea",
        "colab": {
          "base_uri": "https://localhost:8080/"
        }
      },
      "execution_count": 71,
      "outputs": [
        {
          "output_type": "stream",
          "name": "stdout",
          "text": [
            "[2, 3, 4, 5, 6, 7, 8, 9, 10, 11]\n",
            "[1, 6, 1, 3, 1, 11, 1, 3, 1, 8]\n"
          ]
        }
      ]
    },
    {
      "cell_type": "code",
      "source": [
        "#Let's see how this looks visually\n",
        "from matplotlib import pyplot as plt\n",
        "inputs2 = inputs\n",
        "outputs2 = outputs\n",
        "plt.plot(inputs2, outputs2)\n",
        "plt.show()"
      ],
      "metadata": {
        "id": "LUwKMbcLjWfG",
        "outputId": "31c93a7d-74b1-455e-c883-0fd0d0d4c29c",
        "colab": {
          "base_uri": "https://localhost:8080/",
          "height": 265
        }
      },
      "execution_count": 72,
      "outputs": [
        {
          "output_type": "display_data",
          "data": {
            "text/plain": [
              "<Figure size 432x288 with 1 Axes>"
            ],
            "image/png": "[encoded data removed]"
          },
          "metadata": {
            "needs_background": "light"
          }
        }
      ]
    },
    {
      "cell_type": "markdown",
      "source": [
        "It's obvious that all even numbers will have a dropping time of 1. This graph doesn't really show much but a lot of peaks going from 1 to the dropping time of an odd valued input, so it might be interesting to see a graph without even number inputs.\n"
      ],
      "metadata": {
        "id": "Wbc0p_lBjY8t"
      }
    },
    {
      "cell_type": "code",
      "source": [
        "inputs2 = inputs[1:amount_of_points:2]\n",
        "outputs2 = outputs[1:amount_of_points:2]\n",
        "plt.plot(inputs2, outputs2)\n",
        "plt.show()"
      ],
      "metadata": {
        "id": "omoiniOPjdMx",
        "outputId": "445f4909-9f9b-4416-a275-5428a7686975",
        "colab": {
          "base_uri": "https://localhost:8080/",
          "height": 265
        }
      },
      "execution_count": 73,
      "outputs": [
        {
          "output_type": "display_data",
          "data": {
            "text/plain": [
              "<Figure size 432x288 with 1 Axes>"
            ],
            "image/png": "[encoded data removed]"
          },
          "metadata": {
            "needs_background": "light"
          }
        }
      ]
    },
    {
      "cell_type": "markdown",
      "source": [
        "It seems that removing even valued inputs didn't change much in the grand scheme of things. What we can see from this graph is that not many numbers have a high dropping time. There are few numbers with long dropping times as opposed to the many with very few, dropping times ranging from 1-10 or so.\n",
        "\n",
        "---\n",
        "\n",
        "It's not very obvious but from the looks of it, there appears to be a regularity in the spikes. Namely, around 25, 50, and 75, there are evenly space spikes. Let's see if there's any pattern going on."
      ],
      "metadata": {
        "id": "Smo2wq5Djf0U"
      }
    },
    {
      "cell_type": "code",
      "source": [
        "numbers = []\n",
        "for i in range(len(outputs)):\n",
        "    if outputs[i] > 18:\n",
        "        numbers.append(inputs[i])\n",
        "for num in numbers:\n",
        "    print(\"{} mod 8 = {}\".format(num, num % 8))"
      ],
      "metadata": {
        "id": "ZO9Wkewojinh",
        "outputId": "5ee01124-5afc-4cac-cbbe-cd0f376a3710",
        "colab": {
          "base_uri": "https://localhost:8080/"
        }
      },
      "execution_count": 74,
      "outputs": [
        {
          "output_type": "stream",
          "name": "stdout",
          "text": [
            "27 mod 8 = 3\n",
            "31 mod 8 = 7\n",
            "47 mod 8 = 7\n",
            "63 mod 8 = 7\n",
            "71 mod 8 = 7\n",
            "91 mod 8 = 3\n",
            "103 mod 8 = 7\n",
            "111 mod 8 = 7\n",
            "127 mod 8 = 7\n",
            "155 mod 8 = 3\n",
            "159 mod 8 = 7\n",
            "167 mod 8 = 7\n",
            "191 mod 8 = 7\n",
            "207 mod 8 = 7\n",
            "223 mod 8 = 7\n",
            "231 mod 8 = 7\n",
            "239 mod 8 = 7\n",
            "251 mod 8 = 3\n",
            "255 mod 8 = 7\n",
            "283 mod 8 = 3\n",
            "303 mod 8 = 7\n",
            "319 mod 8 = 7\n",
            "327 mod 8 = 7\n",
            "359 mod 8 = 7\n",
            "383 mod 8 = 7\n",
            "411 mod 8 = 3\n",
            "415 mod 8 = 7\n",
            "447 mod 8 = 7\n",
            "463 mod 8 = 7\n",
            "479 mod 8 = 7\n",
            "487 mod 8 = 7\n",
            "495 mod 8 = 7\n",
            "511 mod 8 = 7\n",
            "539 mod 8 = 3\n",
            "543 mod 8 = 7\n",
            "559 mod 8 = 7\n",
            "603 mod 8 = 3\n",
            "615 mod 8 = 7\n",
            "623 mod 8 = 7\n",
            "639 mod 8 = 7\n",
            "667 mod 8 = 3\n",
            "671 mod 8 = 7\n",
            "679 mod 8 = 7\n",
            "703 mod 8 = 7\n",
            "719 mod 8 = 7\n",
            "743 mod 8 = 7\n",
            "751 mod 8 = 7\n",
            "763 mod 8 = 3\n",
            "767 mod 8 = 7\n",
            "795 mod 8 = 3\n",
            "799 mod 8 = 7\n",
            "831 mod 8 = 7\n",
            "839 mod 8 = 7\n",
            "859 mod 8 = 3\n",
            "871 mod 8 = 7\n",
            "879 mod 8 = 7\n",
            "895 mod 8 = 7\n",
            "927 mod 8 = 7\n",
            "935 mod 8 = 7\n",
            "959 mod 8 = 7\n",
            "991 mod 8 = 7\n"
          ]
        }
      ]
    },
    {
      "cell_type": "markdown",
      "source": [
        "It looks like we have our answer. Typically, numbers with (relatively) high dropping times, number mod 8, will be either 3 or 7."
      ],
      "metadata": {
        "id": "9AzjW4M0gODN"
      }
    },
    {
      "cell_type": "code",
      "source": [
        "for num in numbers:\n",
        "    print(\"{} mod 16 = {}\".format(num, num % 16))"
      ],
      "metadata": {
        "id": "Rekvz8c1jksR",
        "outputId": "33aaff75-9b1d-457b-94ab-e017ed49bffc",
        "colab": {
          "base_uri": "https://localhost:8080/"
        }
      },
      "execution_count": 75,
      "outputs": [
        {
          "output_type": "stream",
          "name": "stdout",
          "text": [
            "27 mod 16 = 11\n",
            "31 mod 16 = 15\n",
            "47 mod 16 = 15\n",
            "63 mod 16 = 15\n",
            "71 mod 16 = 7\n",
            "91 mod 16 = 11\n",
            "103 mod 16 = 7\n",
            "111 mod 16 = 15\n",
            "127 mod 16 = 15\n",
            "155 mod 16 = 11\n",
            "159 mod 16 = 15\n",
            "167 mod 16 = 7\n",
            "191 mod 16 = 15\n",
            "207 mod 16 = 15\n",
            "223 mod 16 = 15\n",
            "231 mod 16 = 7\n",
            "239 mod 16 = 15\n",
            "251 mod 16 = 11\n",
            "255 mod 16 = 15\n",
            "283 mod 16 = 11\n",
            "303 mod 16 = 15\n",
            "319 mod 16 = 15\n",
            "327 mod 16 = 7\n",
            "359 mod 16 = 7\n",
            "383 mod 16 = 15\n",
            "411 mod 16 = 11\n",
            "415 mod 16 = 15\n",
            "447 mod 16 = 15\n",
            "463 mod 16 = 15\n",
            "479 mod 16 = 15\n",
            "487 mod 16 = 7\n",
            "495 mod 16 = 15\n",
            "511 mod 16 = 15\n",
            "539 mod 16 = 11\n",
            "543 mod 16 = 15\n",
            "559 mod 16 = 15\n",
            "603 mod 16 = 11\n",
            "615 mod 16 = 7\n",
            "623 mod 16 = 15\n",
            "639 mod 16 = 15\n",
            "667 mod 16 = 11\n",
            "671 mod 16 = 15\n",
            "679 mod 16 = 7\n",
            "703 mod 16 = 15\n",
            "719 mod 16 = 15\n",
            "743 mod 16 = 7\n",
            "751 mod 16 = 15\n",
            "763 mod 16 = 11\n",
            "767 mod 16 = 15\n",
            "795 mod 16 = 11\n",
            "799 mod 16 = 15\n",
            "831 mod 16 = 15\n",
            "839 mod 16 = 7\n",
            "859 mod 16 = 11\n",
            "871 mod 16 = 7\n",
            "879 mod 16 = 15\n",
            "895 mod 16 = 15\n",
            "927 mod 16 = 15\n",
            "935 mod 16 = 7\n",
            "959 mod 16 = 15\n",
            "991 mod 16 = 15\n"
          ]
        }
      ]
    },
    {
      "cell_type": "markdown",
      "source": [
        "Here we can see the results of the previous mod with more detail. Indeed the numbers mod 8 that had high dropping times were 3 and 7. Therefore it would make sense for 7 to be here as well as 15 since that would 7 % 8 = 15 % 8. It would seem that nothing much changes here for 3, instead every high drop time number mod 16 is 11. It would appear that many numbers will fall under these 3 categories."
      ],
      "metadata": {
        "id": "z7sFC6oVgbJP"
      }
    },
    {
      "cell_type": "markdown",
      "source": [
        "#A Change of \"Rules\"\n",
        "We've made some interesting discoveries in regards to both the standard Collatz Conjecture, and applying such to negative integers.\n",
        "\n",
        "Let's see what happens if we change our algorithm to something other than 3n + 1 if odd, and n/2 when even."
      ],
      "metadata": {
        "id": "B4FPnnWUVo6i"
      }
    },
    {
      "cell_type": "markdown",
      "source": [
        "#$3n -1$\n",
        "First, let's see what happens if n is odd, we once again multiply by 3, but this time we'll subtract 1 rather than add 1."
      ],
      "metadata": {
        "id": "fN6aUq_6WPlI"
      }
    },
    {
      "cell_type": "code",
      "source": [
        "def modified_collatz1(n):\n",
        "  return [n//2, 3*n-1][n%2]"
      ],
      "metadata": {
        "id": "XlCAaX07Vs2K"
      },
      "execution_count": 76,
      "outputs": []
    },
    {
      "cell_type": "markdown",
      "source": [
        "Let's see how this works for the first 100 positive integers."
      ],
      "metadata": {
        "id": "u66hw1aJYLwh"
      }
    },
    {
      "cell_type": "code",
      "source": [
        "for N in range(1, 11):\n",
        "  n = N\n",
        "  for i in range(10):\n",
        "    print(N, n)\n",
        "    n = modified_collatz1(n)\n",
        "print(\"First 100 negative integers successfully terminated\")"
      ],
      "metadata": {
        "id": "3pCT1OXLYGsT",
        "colab": {
          "base_uri": "https://localhost:8080/"
        },
        "outputId": "a04e0971-bb6c-469b-d2a6-73b669c4731e"
      },
      "execution_count": 77,
      "outputs": [
        {
          "output_type": "stream",
          "name": "stdout",
          "text": [
            "1 1\n",
            "1 2\n",
            "1 1\n",
            "1 2\n",
            "1 1\n",
            "1 2\n",
            "1 1\n",
            "1 2\n",
            "1 1\n",
            "1 2\n",
            "2 2\n",
            "2 1\n",
            "2 2\n",
            "2 1\n",
            "2 2\n",
            "2 1\n",
            "2 2\n",
            "2 1\n",
            "2 2\n",
            "2 1\n",
            "3 3\n",
            "3 8\n",
            "3 4\n",
            "3 2\n",
            "3 1\n",
            "3 2\n",
            "3 1\n",
            "3 2\n",
            "3 1\n",
            "3 2\n",
            "4 4\n",
            "4 2\n",
            "4 1\n",
            "4 2\n",
            "4 1\n",
            "4 2\n",
            "4 1\n",
            "4 2\n",
            "4 1\n",
            "4 2\n",
            "5 5\n",
            "5 14\n",
            "5 7\n",
            "5 20\n",
            "5 10\n",
            "5 5\n",
            "5 14\n",
            "5 7\n",
            "5 20\n",
            "5 10\n",
            "6 6\n",
            "6 3\n",
            "6 8\n",
            "6 4\n",
            "6 2\n",
            "6 1\n",
            "6 2\n",
            "6 1\n",
            "6 2\n",
            "6 1\n",
            "7 7\n",
            "7 20\n",
            "7 10\n",
            "7 5\n",
            "7 14\n",
            "7 7\n",
            "7 20\n",
            "7 10\n",
            "7 5\n",
            "7 14\n",
            "8 8\n",
            "8 4\n",
            "8 2\n",
            "8 1\n",
            "8 2\n",
            "8 1\n",
            "8 2\n",
            "8 1\n",
            "8 2\n",
            "8 1\n",
            "9 9\n",
            "9 26\n",
            "9 13\n",
            "9 38\n",
            "9 19\n",
            "9 56\n",
            "9 28\n",
            "9 14\n",
            "9 7\n",
            "9 20\n",
            "10 10\n",
            "10 5\n",
            "10 14\n",
            "10 7\n",
            "10 20\n",
            "10 10\n",
            "10 5\n",
            "10 14\n",
            "10 7\n",
            "10 20\n",
            "First 100 negative integers successfully terminated\n"
          ]
        }
      ]
    },
    {
      "cell_type": "markdown",
      "source": [
        "Once n = 5, we get stuck in a loop of 5 → 14 → 7 → 20 → 10, → 5...\n",
        "\n",
        "This is very similar to when we first attempted to apply the original Collatz Conjecture to negative integers. \n",
        "\n",
        "That makes sense, adding 1 to a negative number, results in the same difference as subtracting 1 from a positive number."
      ],
      "metadata": {
        "id": "GDZImhs4YosQ"
      }
    },
    {
      "cell_type": "markdown",
      "source": [
        "#$3n + 2$\n",
        "What if we multiply by 3 and add 2 if n is odd?"
      ],
      "metadata": {
        "id": "583Pfw2Yaij-"
      }
    },
    {
      "cell_type": "code",
      "source": [
        "def modified_collatz2(n):\n",
        "  return [n//2, 3*n+2][n%2]"
      ],
      "metadata": {
        "id": "88VxmYiNaj2x"
      },
      "execution_count": 78,
      "outputs": []
    },
    {
      "cell_type": "code",
      "source": [
        "#WARNING VERY LARGE NUMBERS\n",
        "for N in range(1, 11):\n",
        "  steps = 0\n",
        "  n = N\n",
        "  while n not in [1, 2, 4] and steps != 10:\n",
        "    print(N, n)\n",
        "    n = modified_collatz2(n)\n",
        "    steps += 1"
      ],
      "metadata": {
        "id": "auXcroLLcB67",
        "colab": {
          "base_uri": "https://localhost:8080/"
        },
        "outputId": "b39d6dbf-01b2-48fd-85cf-40dcbc66084d"
      },
      "execution_count": 79,
      "outputs": [
        {
          "output_type": "stream",
          "name": "stdout",
          "text": [
            "3 3\n",
            "3 11\n",
            "3 35\n",
            "3 107\n",
            "3 323\n",
            "3 971\n",
            "3 2915\n",
            "3 8747\n",
            "3 26243\n",
            "3 78731\n",
            "5 5\n",
            "5 17\n",
            "5 53\n",
            "5 161\n",
            "5 485\n",
            "5 1457\n",
            "5 4373\n",
            "5 13121\n",
            "5 39365\n",
            "5 118097\n",
            "6 6\n",
            "6 3\n",
            "6 11\n",
            "6 35\n",
            "6 107\n",
            "6 323\n",
            "6 971\n",
            "6 2915\n",
            "6 8747\n",
            "6 26243\n",
            "7 7\n",
            "7 23\n",
            "7 71\n",
            "7 215\n",
            "7 647\n",
            "7 1943\n",
            "7 5831\n",
            "7 17495\n",
            "7 52487\n",
            "7 157463\n",
            "8 8\n",
            "9 9\n",
            "9 29\n",
            "9 89\n",
            "9 269\n",
            "9 809\n",
            "9 2429\n",
            "9 7289\n",
            "9 21869\n",
            "9 65609\n",
            "9 196829\n",
            "10 10\n",
            "10 5\n",
            "10 17\n",
            "10 53\n",
            "10 161\n",
            "10 485\n",
            "10 1457\n",
            "10 4373\n",
            "10 13121\n",
            "10 39365\n"
          ]
        }
      ]
    },
    {
      "cell_type": "markdown",
      "source": [
        "At only n = 3, this version of the conjecture launches our intger up towards infinity.\n",
        "\n",
        "Thinking through it, we realize:\n",
        "3 → 11 → 35 → 107 → 323 → 971 → 2915 → 8747 → 26243 →...\n",
        "\n",
        "The last digits of each number seem to be in a cycle of 3 → 1 → 5 → 7 → 3...\n",
        "\n",
        "Because of this, n will always be odd. Since n increases (3n + 2) when odd, and decreases when even (n//2), conjectures will always appraoch infinity unless n is able to be even."
      ],
      "metadata": {
        "id": "ffEyUIZFdeZj"
      }
    }
  ]
}